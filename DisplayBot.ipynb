{
 "cells": [
  {
   "cell_type": "markdown",
   "metadata": {},
   "source": [
    "Der Displaybot soll auf einem kleinen Display an der Wand Animationen und Musik aus einem Telegram Gruppenchannel anzeigen, oder ein Webradio abspielen können.\n",
    "\n",
    "Zuerst benötige ich einen Telegram-Bot, der Nachrichten aus einer Gruppe auslesen kann. "
   ]
  }
 ],
 "metadata": {
  "kernelspec": {
   "display_name": "Python 2",
   "language": "python",
   "name": "python2"
  },
  "language_info": {
   "codemirror_mode": {
    "name": "ipython",
    "version": 2
   },
   "file_extension": ".py",
   "mimetype": "text/x-python",
   "name": "python",
   "nbconvert_exporter": "python",
   "pygments_lexer": "ipython2",
   "version": "2.7.12"
  }
 },
 "nbformat": 4,
 "nbformat_minor": 0
}
