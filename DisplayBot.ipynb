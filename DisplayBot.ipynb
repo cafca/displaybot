{
 "cells": [
  {
   "cell_type": "markdown",
   "metadata": {},
   "source": [
    "The Displaybot should show a window on a small wall-mounted display that plays gifs and videos from a telegram group or tunes to a web radio station.\n",
    "\n",
    "First, I need to create a Telegram bot. For this, install the Python Telegram Bot library and the peewee database ORM with \n",
    "\n",
    "    $ pip install peewee python-telegram-bot sqlite3 --upgrade\n",
    "\n",
    "and then setup logging. I follow the [echobot example](https://github.com/python-telegram-bot/python-telegram-bot/blob/master/examples/echobot2.py).\n",
    "\n",
    "Also, setup your Telegram api token below. Get a token by talking to [this bot](https://telegram.me/botfather) on Telegram."
   ]
  },
  {
   "cell_type": "code",
   "execution_count": null,
   "metadata": {
    "collapsed": false,
    "scrolled": true
   },
   "outputs": [],
   "source": [
    "import logging\n",
    "import requests\n",
    "import json\n",
    "\n",
    "from requests.exceptions import RequestException\n",
    "from telegram.ext import Updater, CommandHandler, MessageHandler, Filters\n",
    "\n",
    "logging.basicConfig(level=logging.DEBUG,\n",
    "                    format='%(levelname)s - %(message)s')\n",
    "logger = logging.getLogger()\n",
    "logger.setLevel(logging.INFO)\n",
    "\n",
    "# TELEGRAM_API_TOKEN = \"YOUR TOKEN HERE\"\n",
    "\n",
    "TELEGRAM_API_TOKEN = \"***REMOVED***\"\n",
    "\n",
    "DATABASE_FILENAME = \"memory.db\""
   ]
  },
  {
   "cell_type": "markdown",
   "metadata": {},
   "source": [
    "Define a few command handlers. These usually take the two arguments bot and\n",
    "update. Error handlers also receive the raised TelegramError object in error.\n",
    "\n",
    "The start command is sent when the bot is started."
   ]
  },
  {
   "cell_type": "code",
   "execution_count": null,
   "metadata": {
    "collapsed": false,
    "scrolled": true
   },
   "outputs": [],
   "source": [
    "def start(bot, update):\n",
    "    update.message.reply_text('Gimme dat gif. Send an .mp4 link!')"
   ]
  },
  {
   "cell_type": "markdown",
   "metadata": {},
   "source": [
    "Handle errors, just in case"
   ]
  },
  {
   "cell_type": "code",
   "execution_count": null,
   "metadata": {
    "collapsed": false,
    "scrolled": true
   },
   "outputs": [],
   "source": [
    "def error(bot, update, error):\n",
    "    logger.warn('Update \"%s\" caused error \"%s\"' % (update, error))"
   ]
  },
  {
   "cell_type": "markdown",
   "metadata": {},
   "source": [
    "Next ist the receiver for our app. It will look at incoming messages and determine, whether they contain a link and then wether that link points at an mp4 video. This will then be added to the database for display."
   ]
  },
  {
   "cell_type": "code",
   "execution_count": null,
   "metadata": {
    "collapsed": false,
    "scrolled": true
   },
   "outputs": [],
   "source": [
    "def receive(bot, update): \n",
    "    elems = update.message.parse_entities(types=[\"url\"])\n",
    "    logger.info(\"Incoming message with {} entities\".format(len(elems)))\n",
    "    \n",
    "    for elem in elems:\n",
    "        url = update.message.text[elem.offset:(elem.offset + elem.length)]\n",
    "        \n",
    "        try:\n",
    "            link = requests.head(url)\n",
    "            \n",
    "        except RequestException:\n",
    "            logger.warning(\"Link not valid\")\n",
    "            update.message.reply_text(\"Link not valid\")\n",
    "            \n",
    "        else:\n",
    "            if \"Content-Type\" in link.headers and link.headers[\"Content-Type\"] in [\"video/mp4\", ]:\n",
    "                \n",
    "                if add_url(url=url, author=update.message.from_user.first_name):\n",
    "                    update.message.reply_text(\"Adding video to database\")\n",
    "                else:\n",
    "                    update.message.reply_text(\"Reposter!\")\n",
    "                \n",
    "            else:\n",
    "                logger.info(\"Link not supported: {}\".format(link.headers))"
   ]
  },
  {
   "cell_type": "markdown",
   "metadata": {},
   "source": [
    "Now setup a local database, handled by the Peewee ORM, which allows us to simply handle Python objects for db access instead of writing SQL queries."
   ]
  },
  {
   "cell_type": "code",
   "execution_count": null,
   "metadata": {
    "collapsed": false
   },
   "outputs": [],
   "source": [
    "from peewee import *\n",
    "from playhouse.sqlite_ext import SqliteExtDatabase\n",
    "import datetime\n",
    "\n",
    "db = SqliteExtDatabase(DATABASE_FILENAME)\n",
    "\n",
    "class BaseModel(Model):\n",
    "    class Meta:\n",
    "        database = db\n",
    "\n",
    "class Video(BaseModel):\n",
    "    url = CharField(unique=True)\n",
    "    created = DateTimeField(default=datetime.datetime.now)\n",
    "    author = CharField()\n",
    "    \n",
    "    def serialize(self):\n",
    "        rv = {\n",
    "            \"url\": self.url, \n",
    "            \"author\": self.author, \n",
    "            \"created\": self.created.isoformat()\n",
    "        }\n",
    "        return rv\n",
    "\n",
    "    \n",
    "# Connect to the database and create tables for the models\n",
    "db.connect()\n",
    "try:\n",
    "    db.create_tables([Video])\n",
    "except OperationalError:\n",
    "    logger.info(\"Tables already exist\")"
   ]
  },
  {
   "cell_type": "markdown",
   "metadata": {},
   "source": [
    "Then write a handler to store received videos in the database and computes a cached JSON response on disk with all current videos "
   ]
  },
  {
   "cell_type": "code",
   "execution_count": null,
   "metadata": {
    "collapsed": true
   },
   "outputs": [],
   "source": [
    "def add_url(url, author):\n",
    "    try:\n",
    "        video = Video.create(url=url, author=author)\n",
    "    except IntegrityError:\n",
    "        logger.info(\"Video already exists {}\".format(video))\n",
    "        video = None\n",
    "    else:\n",
    "        logger.info(\"Stored new Video {}\".format(video))\n",
    "        refresh_cache()\n",
    "        return video\n",
    "    \n",
    "def refresh_cache():\n",
    "    rv = {\n",
    "        \"videos\": [\n",
    "            v.serialize() for v in Video.select().order_by(Video.created.desc())\n",
    "        ]\n",
    "    }\n",
    "    with open(\"cache.json\", \"w\") as f:\n",
    "        json.dump(rv, f)\n",
    "    logger.info(\"Cache refreshed. Total {} videos\".format(len(rv[\"videos\"])))"
   ]
  },
  {
   "cell_type": "markdown",
   "metadata": {},
   "source": [
    "Add the main  function, where the handler functions above are registered with the Telegram Bot API and continous polling for new messages as well as the flask server are started."
   ]
  },
  {
   "cell_type": "code",
   "execution_count": null,
   "metadata": {
    "collapsed": false,
    "scrolled": true
   },
   "outputs": [],
   "source": [
    "def main():\n",
    "    # Create the EventHandler and pass it your bot's token.\n",
    "    updater = Updater(TELEGRAM_API_TOKEN)\n",
    "\n",
    "    # Get the dispatcher to register handlers\n",
    "    dp = updater.dispatcher\n",
    "\n",
    "    # on different commands - answer in Telegram\n",
    "    dp.add_handler(CommandHandler(\"start\", start))\n",
    "\n",
    "    # on noncommand i.e message - echo the message on Telegram\n",
    "    dp.add_handler(MessageHandler(None, receive))\n",
    "\n",
    "    # log all errors\n",
    "    dp.add_error_handler(error)\n",
    "\n",
    "    # Start the Bot\n",
    "    updater.start_polling()\n",
    "\n",
    "    # Run the bot until the you presses Ctrl-C or the process receives SIGINT,\n",
    "    # SIGTERM or SIGABRT. This should be used most of the time, since\n",
    "    # start_polling() is non-blocking and will stop the bot gracefully.\n",
    "    updater.idle()"
   ]
  },
  {
   "cell_type": "markdown",
   "metadata": {},
   "source": [
    "Start your bot by saving this notebook as `display-bot.py` and running `$ python display-bot.py`"
   ]
  },
  {
   "cell_type": "code",
   "execution_count": null,
   "metadata": {
    "collapsed": false
   },
   "outputs": [],
   "source": [
    "if __name__ == '__main__':\n",
    "    main()"
   ]
  }
 ],
 "metadata": {
  "kernelspec": {
   "display_name": "Python 2",
   "language": "python",
   "name": "python2"
  },
  "language_info": {
   "codemirror_mode": {
    "name": "ipython",
    "version": 2
   },
   "file_extension": ".py",
   "mimetype": "text/x-python",
   "name": "python",
   "nbconvert_exporter": "python",
   "pygments_lexer": "ipython2",
   "version": "2.7.12"
  }
 },
 "nbformat": 4,
 "nbformat_minor": 0
}
