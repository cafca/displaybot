{
 "cells": [
  {
   "cell_type": "markdown",
   "metadata": {},
   "source": [
    "The Displaybot should show a window on a small wall-mounted display that plays gifs and videos from a telegram group or tunes to a web radio station.\n",
    "\n",
    "First, I need to create a Telegram bot. For this, install the Python Telegram Bot library and the peewee database ORM with\n",
    "\n",
    "    $ pip install peewee python-telegram-bot sqlite3 ffmpy --upgrade\n",
    "\n",
    "and then setup logging. I follow the [echobot example](https://github.com/python-telegram-bot/python-telegram-bot/blob/master/examples/echobot2.py).\n",
    "\n",
    "Also, setup your Telegram api token below. Get a token by talking to [this bot](https://telegram.me/botfather) on Telegram."
   ]
  },
  {
   "cell_type": "code",
   "execution_count": 17,
   "metadata": {
    "collapsed": false,
    "scrolled": true
   },
   "outputs": [],
   "source": [
    "import logging\n",
    "import requests\n",
    "import json\n",
    "import tempfile\n",
    "import ffmpy\n",
    "import datetime\n",
    "import peewee\n",
    "\n",
    "from requests.exceptions import RequestException\n",
    "from telegram.ext import Updater, CommandHandler, MessageHandler, Filters\n",
    "from playhouse.sqlite_ext import SqliteExtDatabase\n",
    "\n",
    "logging.basicConfig(level=logging.DEBUG,\n",
    "                    format='%(levelname)s - %(message)s')\n",
    "logger = logging.getLogger()\n",
    "logger.setLevel(logging.INFO)\n",
    "\n",
    "TELEGRAM_API_TOKEN = \"YOUR TOKEN HERE\"\n",
    "\n",
    "# This will be the database of video clips\n",
    "DATABASE_FILENAME = \"memory.db\"\n",
    "\n",
    "# This cache file is used to feed the webserver with data\n",
    "CACHE_LOCATION = \"frontend/public/data.json\"\n",
    "\n",
    "# As anyone will be able to add the bot and add pictures to your display,\n",
    "# you can filter telegram usernames here\n",
    "ALLOWED_USERS = []\n",
    "\n",
    "SERVER_URL = \"http://localhost:3000\""
   ]
  },
  {
   "cell_type": "markdown",
   "metadata": {},
   "source": [
    "Define a few command handlers for Telegram. These usually take the two arguments bot and\n",
    "update. Error handlers also receive the raised TelegramError object in error.\n",
    "\n",
    "The start command is sent when the bot is started."
   ]
  },
  {
   "cell_type": "code",
   "execution_count": 18,
   "metadata": {
    "collapsed": false,
    "scrolled": true
   },
   "outputs": [],
   "source": [
    "def start(bot, update):\n",
    "    update.message.reply_text('Gimme dat gif. Send an .mp4 link!')"
   ]
  },
  {
   "cell_type": "markdown",
   "metadata": {},
   "source": [
    "Handle errors, just in case"
   ]
  },
  {
   "cell_type": "code",
   "execution_count": 19,
   "metadata": {
    "collapsed": false,
    "scrolled": true
   },
   "outputs": [],
   "source": [
    "def error(bot, update, error):\n",
    "    logger.warn('Update \"%s\" caused error \"%s\"' % (update, error))"
   ]
  },
  {
   "cell_type": "markdown",
   "metadata": {},
   "source": [
    "Next ist the receiver for our app. It will look at incoming messages and determine, whether they contain a link and then wether that link points at an mp4 video. This will then be added to the database for display.\n",
    "\n",
    "There are special cases:\n",
    "- if `url` ends in `gifv`, that is rewritten to `mp4`\n",
    "- if `url` ends in `gif`, the gif is downloaded and converted to a local `mp4` (see code for that below)"
   ]
  },
  {
   "cell_type": "code",
   "execution_count": 20,
   "metadata": {
    "collapsed": false,
    "scrolled": true
   },
   "outputs": [],
   "source": [
    "def receive(bot, update):\n",
    "    elems = update.message.parse_entities(types=[\"url\"])\n",
    "    logger.info(\"Incoming message with {} entities\".format(len(elems)))\n",
    "\n",
    "    for elem in elems:\n",
    "        url = update.message.text[elem.offset:(elem.offset + elem.length)]\n",
    "\n",
    "        # Rewrite gifv links extension and try that\n",
    "        if url[-4:] == \"gifv\":\n",
    "            url = url[:-4] + \"mp4\"\n",
    "            logger.info(\"Rewrite .gifv to {}\".format(url))\n",
    "\n",
    "        # Convert gif files using ffmpeg\n",
    "        if url[-3:] == \"gif\":\n",
    "            url = convert_gif(url)\n",
    "\n",
    "        try:\n",
    "            link = requests.head(url)\n",
    "\n",
    "        except RequestException:\n",
    "            logger.warning(\"Link not valid\")\n",
    "            update.message.reply_text(\"Link not valid\")\n",
    "\n",
    "        else:\n",
    "            if \"Content-Type\" in link.headers and link.headers[\"Content-Type\"] in [\"video/mp4\", \"video/webm\"]:\n",
    "                if add_url(url=url, author=update.message.from_user.first_name):\n",
    "                    update.message.reply_text(\"Added video to database\")\n",
    "                else:\n",
    "                    update.message.reply_text(\"Reposter!\")\n",
    "\n",
    "            else:\n",
    "                logger.info(\"Link not supported: {}\".format(link.headers))"
   ]
  },
  {
   "cell_type": "markdown",
   "metadata": {},
   "source": [
    "In order to convert gifs to the less ressource intensive mp4 format, we can use the ffmpy library, which calls ffmpeg for us outside of python, to make the conversion. \n",
    "\n",
    "This function creates a temporary file and writes the gif to it. Then ffmpeg is called with settings for converting a gif to an mp4 and the result is stored in `frontend/public/videos/`, where the frontend script will be able to access it. "
   ]
  },
  {
   "cell_type": "code",
   "execution_count": 21,
   "metadata": {
    "collapsed": true
   },
   "outputs": [],
   "source": [
    "def convert_gif(url):\n",
    "    rv = False\n",
    "    temp = tempfile.NamedTemporaryFile()\n",
    "    r = requests.get(url, stream=True)\n",
    "    if r.ok:\n",
    "        logger.info(\"Downloading gif to {}...\".format(temp.name))\n",
    "        for block in r.iter_content(1024):\n",
    "            temp.write(block)\n",
    "\n",
    "        logger.info(\"Converting...\")\n",
    "        fname = url.split(\"/\")[-1]\n",
    "        ff = ffmpy.FFmpeg(\n",
    "            inputs={temp.name: None},\n",
    "            outputs={'frontend/public/videos/{}.mp4'.format(fname): '-movflags faststart -pix_fmt yuv420p -vf \"scale=trunc(iw/2)*2:trunc(ih/2)*2\"'}\n",
    "        )\n",
    "        ff.run()\n",
    "        rv = \"{}/videos/{}.mp4\".format(SERVER_URL, fname)\n",
    "        logger.info(rv)\n",
    "    return rv"
   ]
  },
  {
   "cell_type": "markdown",
   "metadata": {},
   "source": [
    "Now setup a local database, handled by the Peewee ORM, which allows us to simply handle Python objects for db access instead of writing SQL queries."
   ]
  },
  {
   "cell_type": "code",
   "execution_count": 22,
   "metadata": {
    "collapsed": false
   },
   "outputs": [
    {
     "name": "stderr",
     "output_type": "stream",
     "text": [
      "INFO:root:Tables already exist\n"
     ]
    }
   ],
   "source": [
    "db = SqliteExtDatabase(DATABASE_FILENAME)\n",
    "\n",
    "class BaseModel(peewee.Model):\n",
    "    class Meta:\n",
    "        database = db\n",
    "\n",
    "class Video(BaseModel):\n",
    "    url = peewee.CharField(unique=True)\n",
    "    created = peewee.DateTimeField(default=datetime.datetime.now)\n",
    "    author = peewee.CharField()\n",
    "\n",
    "    def __repr__(self):\n",
    "        return \"<Video by '{}' at '{}' />\".format(self.author, self.url)\n",
    "\n",
    "    def serialize(self):\n",
    "        rv = {\n",
    "            \"url\": self.url,\n",
    "            \"author\": self.author,\n",
    "            \"created\": self.created.isoformat()\n",
    "        }\n",
    "        return rv\n",
    "\n",
    "\n",
    "# Connect to the database and create tables for the models\n",
    "db.connect()\n",
    "try:\n",
    "    db.create_tables([Video])\n",
    "except peewee.OperationalError:\n",
    "    logger.info(\"Tables already exist\")"
   ]
  },
  {
   "cell_type": "markdown",
   "metadata": {},
   "source": [
    "Then write a handler to store received videos in the database and computes a cached JSON response on disk with all current videos "
   ]
  },
  {
   "cell_type": "code",
   "execution_count": 24,
   "metadata": {
    "collapsed": false
   },
   "outputs": [],
   "source": [
    "def add_url(url, author):\n",
    "    try:\n",
    "        video = Video.create(url=url, author=author)\n",
    "    except IntegrityError:\n",
    "        logger.info(\"Video already exists {}\".format(url))\n",
    "        video = None\n",
    "    else:\n",
    "        logger.info(\"Stored new Video {}\".format(video))\n",
    "        refresh_cache()\n",
    "        return video\n",
    "\n",
    "def refresh_cache():\n",
    "    videos = Video.select().order_by(Video.created.desc())\n",
    "    rv = {\n",
    "        \"videos\": {v.id: v.serialize() for v in videos},\n",
    "        \"config\": None\n",
    "    }\n",
    "    with open(CACHE_LOCATION, \"w\") as f:\n",
    "        json.dump(rv, f)\n",
    "    logger.info(\"Cache refreshed. Total {} videos\".format(len(rv[\"videos\"])))"
   ]
  },
  {
   "cell_type": "markdown",
   "metadata": {},
   "source": [
    "Add the main  function, where the handler functions above are registered with the Telegram Bot API and continous polling for new messages as well as the flask server are started."
   ]
  },
  {
   "cell_type": "code",
   "execution_count": 25,
   "metadata": {
    "collapsed": false,
    "scrolled": true
   },
   "outputs": [],
   "source": [
    "def main():\n",
    "    # Create the EventHandler and pass it your bot's token.\n",
    "    updater = Updater(TELEGRAM_API_TOKEN)\n",
    "\n",
    "    # Get the dispatcher to register handlers\n",
    "    dp = updater.dispatcher\n",
    "\n",
    "    # on different commands - answer in Telegram\n",
    "    dp.add_handler(CommandHandler(\"start\", start))\n",
    "\n",
    "    # on noncommand i.e message - echo the message on Telegram\n",
    "    dp.add_handler(MessageHandler(None, receive))\n",
    "\n",
    "    # log all errors\n",
    "    dp.add_error_handler(error)\n",
    "\n",
    "    # Start the Bot\n",
    "    updater.start_polling()\n",
    "\n",
    "    # Run the bot until the you presses Ctrl-C or the process receives SIGINT,\n",
    "    # SIGTERM or SIGABRT. This should be used most of the time, since\n",
    "    # start_polling() is non-blocking and will stop the bot gracefully.\n",
    "    updater.idle()"
   ]
  },
  {
   "cell_type": "markdown",
   "metadata": {},
   "source": [
    "Start your bot by saving this notebook as `display-bot.py` and running `$ python display-bot.py`.\n",
    "\n",
    "Before the main loop is started, database contents are dumped to the cache file, accessible by the frontend script."
   ]
  },
  {
   "cell_type": "code",
   "execution_count": null,
   "metadata": {
    "collapsed": false
   },
   "outputs": [
    {
     "name": "stderr",
     "output_type": "stream",
     "text": [
      "INFO:root:Cache refreshed. Total 20 videos\n",
      "ERROR:telegram.ext.updater:Error while getting Updates: Conflict: terminated by other long poll or webhook (409)\n",
      "WARNING:root:Update \"None\" caused error \"Conflict: terminated by other long poll or webhook (409)\"\n",
      "ERROR:telegram.ext.updater:Error while getting Updates: Conflict: terminated by other long poll or webhook (409)\n",
      "WARNING:root:Update \"None\" caused error \"Conflict: terminated by other long poll or webhook (409)\"\n",
      "ERROR:telegram.ext.updater:Error while getting Updates: Conflict: terminated by other long poll or webhook (409)\n",
      "WARNING:root:Update \"None\" caused error \"Conflict: terminated by other long poll or webhook (409)\"\n",
      "ERROR:telegram.ext.updater:Error while getting Updates: Conflict: terminated by other long poll or webhook (409)\n",
      "WARNING:root:Update \"None\" caused error \"Conflict: terminated by other long poll or webhook (409)\"\n",
      "ERROR:telegram.ext.updater:Error while getting Updates: Conflict: terminated by other long poll or webhook (409)\n",
      "WARNING:root:Update \"None\" caused error \"Conflict: terminated by other long poll or webhook (409)\"\n",
      "ERROR:telegram.ext.updater:Error while getting Updates: Conflict: terminated by other long poll or webhook (409)\n",
      "WARNING:root:Update \"None\" caused error \"Conflict: terminated by other long poll or webhook (409)\"\n",
      "ERROR:telegram.ext.updater:Error while getting Updates: Conflict: terminated by other long poll or webhook (409)\n"
     ]
    }
   ],
   "source": [
    "if __name__ == '__main__':\n",
    "    refresh_cache()\n",
    "    main()"
   ]
  },
  {
   "cell_type": "code",
   "execution_count": null,
   "metadata": {
    "collapsed": false
   },
   "outputs": [],
   "source": [
    "main()"
   ]
  },
  {
   "cell_type": "markdown",
   "metadata": {},
   "source": []
  }
 ],
 "metadata": {
  "kernelspec": {
   "display_name": "Python 2",
   "language": "python",
   "name": "python2"
  },
  "language_info": {
   "codemirror_mode": {
    "name": "ipython",
    "version": 2
   },
   "file_extension": ".py",
   "mimetype": "text/x-python",
   "name": "python",
   "nbconvert_exporter": "python",
   "pygments_lexer": "ipython2",
   "version": "2.7.12"
  }
 },
 "nbformat": 4,
 "nbformat_minor": 0
}
