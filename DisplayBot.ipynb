{
 "cells": [
  {
   "cell_type": "markdown",
   "metadata": {},
   "source": [
    "For a long time I wanted to setup a Raspberry Pi in our flatshare's common room. I wanted it to show a looping playlist of GIFs and then maybe extend it to other functionality that is cool to have in a shared flat. This christmas I finally got around to building this thing and it has been so much fun!\n",
    "\n",
    "I started developing in Jupyter Notebook and below you can read the results of that. After some time the thing had gotten pretty complex and so I started working in a conventional editor. I still want to post what I did in Jupyter though, because I think it can be pretty interesting as a simple example of a Python Telegram bot.\n",
    "\n",
    "In the meantime I have added much more robust video playback, more options for adding animations and also a web radio that allows selecting stations through the chat bot and sends background information as well as images about the music that it is playing to the group. You can see the code for this on the project's Github page.\n",
    "\n",
    "But let's get back to the simple version I started with.\n",
    "\n"
   ]
  },
  {
   "cell_type": "markdown",
   "metadata": {},
   "source": [
    "## Build a Telegram Bot\n",
    "\n",
    "For this project I am using a wall-mounted Raspberry Pi 3 model B in a simple transparent case from Amazon with a Kuman 3.5\" touch-enabled display. The Pi runs a Raspian Jessie image provided by the display manufacturer. \n",
    "\n",
    "The display bot will be controlled through a chatbot that lives in a Telegram group shared with my flatmates. First, I need to create the Telegram bot. For this, install the Python Telegram Bot library and the peewee database ORM with "
   ]
  },
  {
   "cell_type": "markdown",
   "metadata": {},
   "source": [
    "## Basic Setup\n",
    "\n",
    "First, you want to install `python-telegram-bot` through Python's \"package manager\" pip.\n",
    "\n",
    "    $ pip install python-telegram-bot requests sh ffmpy --upgrade\n",
    "    \n",
    "Also make sure you have ffmpeg (for conversation of GIFs to MP4s) and mplayer installed.\n",
    "\n",
    "And then setup logging. I followed Python-Telegram-Bot's [echobot example](https://github.com/python-telegram-bot/python-telegram-bot/blob/master/examples/echobot2.py) for writing this."
   ]
  },
  {
   "cell_type": "code",
   "execution_count": 3,
   "metadata": {
    "collapsed": false
   },
   "outputs": [],
   "source": [
    "import os\n",
    "import logging\n",
    "\n",
    "from telegram.ext import Updater, CommandHandler, MessageHandler, Filters\n",
    "\n",
    "logger = logging.getLogger(__name__)\n",
    "logger.setLevel(logging.DEBUG)\n",
    "\n",
    "# create a file handler \n",
    "handler = logging.FileHandler('hello.log')\n",
    "handler.setLevel(logging.DEBUG)\n",
    "\n",
    "# create a logging format\n",
    "formatter = logging.Formatter('%(asctime)s - %(name)s - %(levelname)s - %(message)s')\n",
    "handler.setFormatter(formatter)\n",
    "\n",
    "# add the handlers to the logger\n",
    "logger.addHandler(handler)\n",
    "\n",
    "# Use appdata to store all persistent application state\n",
    "appdata = dict()\n",
    "DATA_DIR = os.path.join(os.path.realpath(\".\"), \"userdata\")\n",
    "\n",
    "TELEGRAM_API_TOKEN = \"266345127:AAE2PgynHDQKvtYcyMmSxAsdihS6TlviGC8\"\n",
    "\n",
    "# or uncomment these two lines to load the token from disk\n",
    "\n",
    "# with open(os.path.join(DATA_DIR, \"TELEGRAM_API_TOKEN\")) as f:\n",
    "#     TELEGRAM_API_TOKEN = f.read().strip()\n",
    "\n",
    "SUPPORTED_TYPES = [\"video/mp4\", \"video/webm\", \"image/gif\"]\n",
    "\n",
    "SERVER_URL = \"http://localhost:3000\"\n",
    "\n",
    "playnext = None"
   ]
  },
  {
   "cell_type": "markdown",
   "metadata": {},
   "source": [
    "## Basic commands for a bot\n",
    "\n",
    "Define a few command handlers for Telegram. These usually take the two arguments `bot` and\n",
    "`update`. Error handlers also receive the raised `TelegramError` object in error.\n",
    "\n",
    "The `start` command is sent when the bot is started."
   ]
  },
  {
   "cell_type": "code",
   "execution_count": 4,
   "metadata": {
    "collapsed": true
   },
   "outputs": [],
   "source": [
    "def start(bot, update):\n",
    "    update.message.reply_text('Gimme dat gif. Send an .mp4 link!')"
   ]
  },
  {
   "cell_type": "markdown",
   "metadata": {},
   "source": [
    "Handle errors, just in case"
   ]
  },
  {
   "cell_type": "code",
   "execution_count": 5,
   "metadata": {
    "collapsed": true
   },
   "outputs": [],
   "source": [
    "def error(bot, update, error):\n",
    "    logger.warn('Update \"%s\" caused error \"%s\"' % (update, error))"
   ]
  },
  {
   "cell_type": "markdown",
   "metadata": {},
   "source": [
    " These two function will later be registered with the Telegram bot API."
   ]
  },
  {
   "cell_type": "markdown",
   "metadata": {},
   "source": [
    "## Config persistence\n",
    "\n",
    "We need a way to keep track of all the videos we will download and maybe other stuff later on. While what I did is not the most elegant solution, it works for now: We use a global dictionary that loads from and saves to a JSON-serialized file on disk."
   ]
  },
  {
   "cell_type": "code",
   "execution_count": 9,
   "metadata": {
    "collapsed": false
   },
   "outputs": [],
   "source": [
    "import json\n",
    "\n",
    "config_fname = os.path.join(DATA_DIR, \"data.json\")\n",
    "def load():\n",
    "    global appdata\n",
    "    \n",
    "    try:\n",
    "        with open(config_fname) as f:\n",
    "            appdata = json.load(f)\n",
    "    except IOError, ValueError:\n",
    "        logger.info(\"Bootstrap config loaded\")\n",
    "        appdata = {\n",
    "            \"clips\": [],\n",
    "            \"config\": {}\n",
    "        }\n",
    "        \n",
    "    logger.info(\"@LOAD\\n\\n{}\".format(json.dumps(appdata, indent=2, sort_keys=True)))\n",
    "    return appdata\n",
    "        \n",
    "def save():\n",
    "    global appdata\n",
    "    \n",
    "    logger.info(\"@SAVE\\n\\n{}\".format(json.dumps(appdata, indent=2, sort_keys=True)))\n",
    "    with open(config_fname, \"w\") as f:\n",
    "        json.dump(appdata, f, indent=2, sort_keys=True)"
   ]
  },
  {
   "cell_type": "markdown",
   "metadata": {},
   "source": [
    "## Receive clips from Telegram \n",
    "\n",
    "Next ist the receiver for our app. It will look at incoming messages and determine, whether they contain links. Iterating over the link elements contained in the message, we check that the link is valid by sending an HTTP `HEAD` request and checking the HTTP headers to see whether the link points at one of the supported animation file types,\n",
    "\n",
    "Special case: if `url` ends in `gif`, the gif is downloaded and converted to a local `mp4` (see code for that below)."
   ]
  },
  {
   "cell_type": "code",
   "execution_count": 6,
   "metadata": {
    "collapsed": true
   },
   "outputs": [],
   "source": [
    "import requests\n",
    "\n",
    "def receive(bot, update):\n",
    "    elems = update.message.parse_entities(types=[\"url\"])\n",
    "    logger.info(\"Receiving message with {} url entities\".format(len(elems)))\n",
    "\n",
    "    for elem in elems:\n",
    "        url = update.message.text[elem.offset:(elem.offset + elem.length)]\n",
    "\n",
    "        # Rewrite gifv links extension to mp4 and see whether this gets us a video\n",
    "        if url[-4:] == \"gifv\":\n",
    "            url = url[:-4] + \"mp4\"\n",
    "            logger.info(\"Rewrite .gifv to {}\".format(url))\n",
    "\n",
    "        try:\n",
    "            link = requests.head(url)\n",
    "\n",
    "        except requests.exceptions.RequestException:\n",
    "            logger.warning(\"Link not valid\")\n",
    "            update.message.reply_text(\"Link not valid\")\n",
    "\n",
    "        else:\n",
    "            if \"Content-Type\" in link.headers and link.headers[\"Content-Type\"] in SUPPORTED_TYPES:\n",
    "                if download_clip(url=url, author=update.message.from_user.first_name):\n",
    "                    update.message.reply_text(\"Added video to database\")\n",
    "                else:\n",
    "                    update.message.reply_text(\"Reposter!\")\n",
    "\n",
    "            else:\n",
    "                logger.info(\"Link not supported: {}\".format(link.headers))"
   ]
  },
  {
   "cell_type": "markdown",
   "metadata": {},
   "source": [
    "## Download and file clips\n",
    "\n",
    "This handler downloads URLs, calls the GIF conversion function and adds new clip's data to the `appdata` dictionary."
   ]
  },
  {
   "cell_type": "code",
   "execution_count": 7,
   "metadata": {
    "collapsed": true
   },
   "outputs": [],
   "source": [
    "import os\n",
    "import tempfile\n",
    "import datetime\n",
    "\n",
    "from sh import rm\n",
    "\n",
    "def download_clip(url, author):\n",
    "    global appdata\n",
    "    if duplicate(url):\n",
    "        logger.info(\"Detected duplicate {}\".format(url))\n",
    "        rv = False\n",
    "    else:\n",
    "        fname = url.split(\"/\")[-1]\n",
    "        fpath = os.path.join(DATA_DIR, \"clips\", fname)\n",
    "        \n",
    "        with open(fpath, \"w+\") as f:\n",
    "            r = requests.get(url, stream=True)\n",
    "            if r.ok:\n",
    "                logger.info(\"Downloading clip to {}...\".format(fpath))\n",
    "                for block in r.iter_content(1024):\n",
    "                    f.write(block)\n",
    "                    \n",
    "        # Convert gif files using ffmpeg\n",
    "        if url[-3:] == \"gif\":\n",
    "            fpath = convert_gif(fpath)\n",
    "            fname = os.path.basename(fpath)\n",
    "            \n",
    "        clip = {\n",
    "            \"url\": url,\n",
    "            \"author\": author,\n",
    "            \"filename\": fname,\n",
    "            \"created\": datetime.datetime.now().isoformat()\n",
    "        }\n",
    "        appdata[\"clips\"].append(clip)\n",
    "        appdata[\"incoming\"] = clip\n",
    "        save()\n",
    "\n",
    "        rv = True\n",
    "        logger.info(\"Saved new clip {} from {}\".format(fname, author))\n",
    "    return rv\n",
    "\n",
    "def duplicate(url):\n",
    "    return len([c for c in appdata[\"clips\"] if \"url\" in c and c[\"url\"] == url]) > 0\n",
    "    "
   ]
  },
  {
   "cell_type": "markdown",
   "metadata": {},
   "source": [
    "## Convert gifs\n",
    "\n",
    "In order to convert gifs to the less ressource intensive mp4 format, we can use the ffmpy library, which calls ffmpeg for us outside of python, to make the conversion. \n",
    "\n",
    "This function creates a temporary file and writes the gif to it. Then ffmpeg is called with settings for converting a gif to an mp4 and returns its new file path. "
   ]
  },
  {
   "cell_type": "code",
   "execution_count": 8,
   "metadata": {
    "collapsed": false
   },
   "outputs": [],
   "source": [
    "import ffmpy\n",
    "\n",
    "def convert_gif(fpath):\n",
    "    logger.info(\"Converting gif to mp4...\")\n",
    "    \n",
    "    new_fpath = fpath + \".mp4\"\n",
    "    \n",
    "    ff = ffmpy.FFmpeg(\n",
    "        inputs={fpath: None},\n",
    "        outputs={new_fpath: '-movflags faststart -pix_fmt yuv420p -vf \"scale=trunc(iw/2)*2:trunc(ih/2)*2\"'}\n",
    "    )\n",
    "    ff.run()\n",
    "    return new_fpath"
   ]
  },
  {
   "cell_type": "markdown",
   "metadata": {},
   "source": [
    "## Videoplayer\n",
    "\n",
    "The video player itself consists of two function: The first, `get_next` returns the next video file to play, which is a random one, unless we have just added a new video, in which case it will be this. The second one `play_video` starts `mplayer`, an external video player, with the return value of the first function, waits until it has finished playing and then starts over. Forever!"
   ]
  },
  {
   "cell_type": "code",
   "execution_count": 11,
   "metadata": {
    "collapsed": false
   },
   "outputs": [],
   "source": [
    "from sh import mplayer\n",
    "from time import sleep\n",
    "from random import choice\n",
    "\n",
    "def get_next():\n",
    "    global appdata\n",
    "    \n",
    "    while len(appdata[\"clips\"]) < 1:\n",
    "        logger.info(\"Waiting for clips\")\n",
    "        sleep(10)\n",
    "    \n",
    "    if \"incoming\" in appdata.keys() and appdata[\"incoming\"]:\n",
    "        rv = appdata[\"incoming\"]\n",
    "        appdata[\"incoming\"] = None\n",
    "        save()\n",
    "        logger.info(\"Playing shortlisted clip {}\".format(rv[\"filename\"]))\n",
    "    else:\n",
    "        rv = choice(appdata[\"clips\"])\n",
    "    return rv\n",
    "\n",
    "def play_video():\n",
    "    clip = get_next()\n",
    "        \n",
    "    while True:\n",
    "        logger.info(\"Playing {}\".format(clip[\"filename\"]))\n",
    "        mplayer(os.path.join(DATA_DIR, \"clips\", clip[\"filename\"]), \"-fs\", \"2>&1 /dev/null\")\n",
    "        logger.info(\"Finished {}\".format(clip[\"filename\"]))\n",
    "        clip = get_next()"
   ]
  },
  {
   "cell_type": "markdown",
   "metadata": {},
   "source": [
    "## Main function\n",
    "\n",
    "Here, all loose ends tie up: A `Telegram Updater` connects to the Telegram Bot API for us. The three handlers are added - one to give instructions after the bot is first started, one to handle any incoming message and one for errors and finally the endless video-playing loop is started."
   ]
  },
  {
   "cell_type": "code",
   "execution_count": 12,
   "metadata": {
    "collapsed": false
   },
   "outputs": [],
   "source": [
    "def main():\n",
    "    # Load configuration and video database\n",
    "    load()\n",
    "    \n",
    "    # Create the EventHandler and pass it your bot's token.\n",
    "    updater = Updater(TELEGRAM_API_TOKEN)\n",
    "\n",
    "    # Get the dispatcher to register handlers\n",
    "    dp = updater.dispatcher\n",
    "\n",
    "    # on different commands - answer in Telegram\n",
    "    dp.add_handler(CommandHandler(\"start\", start))\n",
    "\n",
    "    # on noncommand i.e message - echo the message on Telegram\n",
    "    dp.add_handler(MessageHandler(None, receive))\n",
    "\n",
    "    # log all errors\n",
    "    dp.add_error_handler(error)\n",
    "\n",
    "    # Start the Bot\n",
    "    updater.start_polling()\n",
    "    \n",
    "    # Start the player\n",
    "    play_video()\n",
    "\n",
    "    # Run the bot until the you presses Ctrl-C or the process receives SIGINT,\n",
    "    # SIGTERM or SIGABRT. This should be used most of the time, since\n",
    "    # start_polling() is non-blocking and will stop the bot gracefully.\n",
    "    # updater.idle()"
   ]
  },
  {
   "cell_type": "markdown",
   "metadata": {},
   "source": [
    "Start your bot by saving this notebook as `display-bot.py` and running `$ python display-bot.py`.\n",
    "\n",
    "Before you start the bot, make sure that \n",
    "\n",
    "- there is a folder named `userdata` next to this script \n",
    "- and inside userdata there is a folder `clips`\n",
    "- and that you have set your Telegram token at the top of this file\n",
    "- and that you have installed all dependencies.\n",
    "\n",
    "Yay bot :)"
   ]
  },
  {
   "cell_type": "code",
   "execution_count": null,
   "metadata": {
    "collapsed": false
   },
   "outputs": [],
   "source": [
    "# This starts the program\n",
    "main()\n",
    "\n",
    "# You can also uncomment the following and comment out the above line to make it runnable from outside the notebook.\n",
    "\n",
    "# if __name__ == '__main__':\n",
    "#     main()\n",
    "    "
   ]
  }
 ],
 "metadata": {
  "kernelspec": {
   "display_name": "Python 2",
   "language": "python",
   "name": "python2"
  },
  "language_info": {
   "codemirror_mode": {
    "name": "ipython",
    "version": 2
   },
   "file_extension": ".py",
   "mimetype": "text/x-python",
   "name": "python",
   "nbconvert_exporter": "python",
   "pygments_lexer": "ipython2",
   "version": "2.7.12"
  }
 },
 "nbformat": 4,
 "nbformat_minor": 0
}
